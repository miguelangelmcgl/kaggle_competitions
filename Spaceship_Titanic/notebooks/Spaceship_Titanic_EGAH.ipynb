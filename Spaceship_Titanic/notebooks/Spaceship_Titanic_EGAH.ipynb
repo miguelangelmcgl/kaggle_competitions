{
 "cells": [
  {
   "cell_type": "markdown",
   "metadata": {},
   "source": [
    "## Definición de la Target\n",
    "*Your task is to predict whether a passenger was transported to an alternate dimension during the Spaceship Titanic's collision with the spacetime anomaly*"
   ]
  },
  {
   "cell_type": "code",
   "execution_count": 168,
   "metadata": {},
   "outputs": [],
   "source": [
    "ruta_abs = r'./data/train.csv'"
   ]
  },
  {
   "cell_type": "markdown",
   "metadata": {},
   "source": [
    "## Librerías\n",
    "En la celda abajo indicada se mostrarám todas las librerías empleadas durante el proceso."
   ]
  },
  {
   "cell_type": "code",
   "execution_count": 169,
   "metadata": {},
   "outputs": [],
   "source": [
    "import pandas as pd\n",
    "import numpy as np\n"
   ]
  },
  {
   "cell_type": "code",
   "execution_count": 170,
   "metadata": {},
   "outputs": [],
   "source": [
    "df = pd.read_csv(ruta_abs)"
   ]
  },
  {
   "cell_type": "code",
   "execution_count": 171,
   "metadata": {},
   "outputs": [
    {
     "name": "stdout",
     "output_type": "stream",
     "text": [
      "--------------- Columnas del DataFrame de train: ---------------\n",
      "Index(['PassengerId', 'HomePlanet', 'CryoSleep', 'Cabin', 'Destination', 'Age',\n",
      "       'VIP', 'RoomService', 'FoodCourt', 'ShoppingMall', 'Spa', 'VRDeck',\n",
      "       'Name', 'Transported'],\n",
      "      dtype='object')\n",
      "--------------- Chequeo duplicados: ---------------\n",
      "False\n",
      "--------------- Número total de nulos: ---------------\n"
     ]
    },
    {
     "data": {
      "text/plain": [
       "PassengerId       0\n",
       "HomePlanet      201\n",
       "CryoSleep       217\n",
       "Cabin           199\n",
       "Destination     182\n",
       "Age             179\n",
       "VIP             203\n",
       "RoomService     181\n",
       "FoodCourt       183\n",
       "ShoppingMall    208\n",
       "Spa             183\n",
       "VRDeck          188\n",
       "Name            200\n",
       "Transported       0\n",
       "dtype: int64"
      ]
     },
     "execution_count": 171,
     "metadata": {},
     "output_type": "execute_result"
    }
   ],
   "source": [
    "print(15*\"-\",\"Columnas del DataFrame de train:\",15*\"-\")\n",
    "col_names = df.columns\n",
    "print(col_names)\n",
    "\n",
    "print(15*\"-\",\"Chequeo duplicados:\",15*\"-\")\n",
    "print(df.duplicated().any())\n",
    "\n",
    "\n",
    "print(15*\"-\",\"Número total de nulos:\",15*\"-\")\n",
    "df.isna().sum()"
   ]
  },
  {
   "cell_type": "markdown",
   "metadata": {},
   "source": [
    "De aqui se pueden obtener diferentes conclusiones, como se observa la fuente de datos no presenta ningún duplicado, sin embargo en cuanto a nulos se necesita una evaluación más exhaustiva, dado que la muesttra con la que se cuenta es solo de ocho mil IDs."
   ]
  },
  {
   "cell_type": "markdown",
   "metadata": {},
   "source": [
    "## Evaluacion de Nulos"
   ]
  },
  {
   "cell_type": "code",
   "execution_count": 172,
   "metadata": {},
   "outputs": [],
   "source": [
    "def eval_Nan(df,col_eval,col_based):\n",
    "    print(15*\"-\",\"{} NANs:\".format(col_eval),15*\"-\")\n",
    "    print(len(df[col_eval].unique()))\n",
    "    print(df[col_eval].unique())\n",
    "    print(df.groupby([col_eval],as_index=False).count().sort_values([\"PassengerId\"],ascending=False)[[col_eval,col_based]])\n",
    "    df.loc[df[col_eval].isna()==True].count()"
   ]
  },
  {
   "cell_type": "code",
   "execution_count": 173,
   "metadata": {},
   "outputs": [
    {
     "name": "stdout",
     "output_type": "stream",
     "text": [
      "--------------- HomePlanet NANs: ---------------\n",
      "4\n",
      "['Europa' 'Earth' 'Mars' nan]\n",
      "  HomePlanet  PassengerId\n",
      "0      Earth         4602\n",
      "1     Europa         2131\n",
      "2       Mars         1759\n",
      "--------------- CryoSleep NANs: ---------------\n",
      "3\n",
      "[False True nan]\n",
      "   CryoSleep  PassengerId\n",
      "0      False         5439\n",
      "1       True         3037\n",
      "--------------- Cabin NANs: ---------------\n",
      "6561\n",
      "['B/0/P' 'F/0/S' 'A/0/S' ... 'G/1499/S' 'G/1500/S' 'E/608/S']\n",
      "         Cabin  PassengerId\n",
      "6156   G/734/S            8\n",
      "764     C/21/P            7\n",
      "5092  G/1368/P            7\n",
      "571     B/82/S            7\n",
      "6527   G/981/S            7\n",
      "...        ...          ...\n",
      "2553  F/1245/P            1\n",
      "2552  F/1244/S            1\n",
      "2551  F/1243/S            1\n",
      "2550  F/1243/P            1\n",
      "6559     T/3/P            1\n",
      "\n",
      "[6560 rows x 2 columns]\n",
      "--------------- Destination NANs: ---------------\n",
      "4\n",
      "['TRAPPIST-1e' 'PSO J318.5-22' '55 Cancri e' nan]\n",
      "     Destination  PassengerId\n",
      "2    TRAPPIST-1e         5915\n",
      "0    55 Cancri e         1800\n",
      "1  PSO J318.5-22          796\n",
      "--------------- Age NANs: ---------------\n",
      "81\n",
      "[39. 24. 58. 33. 16. 44. 26. 28. 35. 14. 34. 45. 32. 48. 31. 27.  0.  1.\n",
      " 49. 29. 10.  7. 21. 62. 15. 43. 47.  2. 20. 23. 30. 17. 55.  4. 19. 56.\n",
      " nan 25. 38. 36. 22. 18. 42. 37. 13.  8. 40.  3. 54.  9.  6. 64. 67. 61.\n",
      " 50. 41. 57. 11. 52. 51. 46. 60. 63. 59.  5. 79. 68. 74. 12. 53. 65. 71.\n",
      " 75. 70. 76. 78. 73. 66. 69. 72. 77.]\n",
      "     Age  PassengerId\n",
      "24  24.0          324\n",
      "18  18.0          320\n",
      "21  21.0          311\n",
      "19  19.0          293\n",
      "23  23.0          292\n",
      "..   ...          ...\n",
      "75  75.0            4\n",
      "78  78.0            3\n",
      "79  79.0            3\n",
      "76  76.0            2\n",
      "77  77.0            2\n",
      "\n",
      "[80 rows x 2 columns]\n",
      "--------------- VIP NANs: ---------------\n",
      "3\n",
      "[False True nan]\n",
      "     VIP  PassengerId\n",
      "0  False         8291\n",
      "1   True          199\n",
      "--------------- RoomService NANs: ---------------\n",
      "1274\n",
      "[   0.  109.   43. ... 1569. 8586.  745.]\n",
      "      RoomService  PassengerId\n",
      "0             0.0         5577\n",
      "1             1.0          117\n",
      "2             2.0           79\n",
      "3             3.0           61\n",
      "4             4.0           47\n",
      "...           ...          ...\n",
      "713         902.0            1\n",
      "714         903.0            1\n",
      "715         906.0            1\n",
      "717         909.0            1\n",
      "1272      14327.0            1\n",
      "\n",
      "[1273 rows x 2 columns]\n",
      "--------------- FoodCourt NANs: ---------------\n",
      "1508\n",
      "[   0.    9. 3576. ... 3208. 6819. 4688.]\n",
      "      FoodCourt  PassengerId\n",
      "0           0.0         5456\n",
      "1           1.0          116\n",
      "2           2.0           75\n",
      "3           3.0           53\n",
      "4           4.0           53\n",
      "...         ...          ...\n",
      "823      1314.0            1\n",
      "824      1319.0            1\n",
      "825      1320.0            1\n",
      "826      1327.0            1\n",
      "1506    29813.0            1\n",
      "\n",
      "[1507 rows x 2 columns]\n",
      "--------------- ShoppingMall NANs: ---------------\n",
      "1116\n",
      "[   0.   25.  371. ... 1085.  510. 1872.]\n",
      "      ShoppingMall  PassengerId\n",
      "0              0.0         5587\n",
      "1              1.0          153\n",
      "2              2.0           80\n",
      "3              3.0           59\n",
      "4              4.0           45\n",
      "...            ...          ...\n",
      "613          741.0            1\n",
      "614          742.0            1\n",
      "617          745.0            1\n",
      "618          746.0            1\n",
      "1114       23492.0            1\n",
      "\n",
      "[1115 rows x 2 columns]\n",
      "--------------- Spa NANs: ---------------\n",
      "1328\n",
      "[   0.  549. 6715. ... 2868. 1107. 1643.]\n",
      "          Spa  PassengerId\n",
      "0         0.0         5324\n",
      "1         1.0          146\n",
      "2         2.0          105\n",
      "3         3.0           53\n",
      "5         5.0           53\n",
      "...       ...          ...\n",
      "751    1012.0            1\n",
      "752    1013.0            1\n",
      "755    1019.0            1\n",
      "758    1027.0            1\n",
      "1326  22408.0            1\n",
      "\n",
      "[1327 rows x 2 columns]\n",
      "--------------- VRDeck NANs: ---------------\n",
      "1307\n",
      "[   0.   44.   49. ... 1164.  971. 3235.]\n",
      "       VRDeck  PassengerId\n",
      "0         0.0         5495\n",
      "1         1.0          139\n",
      "2         2.0           70\n",
      "3         3.0           56\n",
      "5         5.0           51\n",
      "...       ...          ...\n",
      "723     952.0            1\n",
      "724     954.0            1\n",
      "725     956.0            1\n",
      "726     957.0            1\n",
      "1305  24133.0            1\n",
      "\n",
      "[1306 rows x 2 columns]\n",
      "--------------- Name NANs: ---------------\n",
      "8474\n",
      "['Maham Ofracculy' 'Juanna Vines' 'Altark Susent' ... 'Fayey Connon'\n",
      " 'Celeon Hontichre' 'Propsh Hontichre']\n",
      "                    Name  PassengerId\n",
      "4642        Keitha Josey            2\n",
      "4492   Juane Popelazquez            2\n",
      "2590  Elaney Webstephrey            2\n",
      "675            Apix Wala            2\n",
      "3387    Glenna Valezaley            2\n",
      "...                  ...          ...\n",
      "2823        Eriey Bartez            1\n",
      "2822      Erie Woodwinez            1\n",
      "2821       Erie Sextones            1\n",
      "2820         Erie Rilley            1\n",
      "8472    Zubeneb Pasharne            1\n",
      "\n",
      "[8473 rows x 2 columns]\n",
      "--------------- Transported NANs: ---------------\n",
      "2\n",
      "[False  True]\n",
      "   Transported  PassengerId\n",
      "1         True         4378\n",
      "0        False         4315\n"
     ]
    }
   ],
   "source": [
    "col = col_names.to_list().copy()\n",
    "col.remove(\"PassengerId\")\n",
    "\n",
    "for i in col:\n",
    "    eval_Nan(df,i,\"PassengerId\")\n"
   ]
  },
  {
   "cell_type": "markdown",
   "metadata": {},
   "source": [
    "To DOs\n",
    "    1. Mirar los registros donde los CryoSleep son True para ver si han realizado algún tipo de gasto extra.\n",
    "    2. Evaluar aquellos registros donde los nombre de los viajeros son iguales, ¿han realizado varios viajes?"
   ]
  },
  {
   "cell_type": "code",
   "execution_count": 174,
   "metadata": {},
   "outputs": [
    {
     "data": {
      "text/html": [
       "<div>\n",
       "<style scoped>\n",
       "    .dataframe tbody tr th:only-of-type {\n",
       "        vertical-align: middle;\n",
       "    }\n",
       "\n",
       "    .dataframe tbody tr th {\n",
       "        vertical-align: top;\n",
       "    }\n",
       "\n",
       "    .dataframe thead th {\n",
       "        text-align: right;\n",
       "    }\n",
       "</style>\n",
       "<table border=\"1\" class=\"dataframe\">\n",
       "  <thead>\n",
       "    <tr style=\"text-align: right;\">\n",
       "      <th></th>\n",
       "      <th>RoomService</th>\n",
       "    </tr>\n",
       "  </thead>\n",
       "  <tbody>\n",
       "    <tr>\n",
       "      <th>25</th>\n",
       "      <td>NaN</td>\n",
       "    </tr>\n",
       "    <tr>\n",
       "      <th>83</th>\n",
       "      <td>NaN</td>\n",
       "    </tr>\n",
       "    <tr>\n",
       "      <th>233</th>\n",
       "      <td>NaN</td>\n",
       "    </tr>\n",
       "    <tr>\n",
       "      <th>400</th>\n",
       "      <td>NaN</td>\n",
       "    </tr>\n",
       "    <tr>\n",
       "      <th>889</th>\n",
       "      <td>NaN</td>\n",
       "    </tr>\n",
       "    <tr>\n",
       "      <th>...</th>\n",
       "      <td>...</td>\n",
       "    </tr>\n",
       "    <tr>\n",
       "      <th>8312</th>\n",
       "      <td>NaN</td>\n",
       "    </tr>\n",
       "    <tr>\n",
       "      <th>8361</th>\n",
       "      <td>NaN</td>\n",
       "    </tr>\n",
       "    <tr>\n",
       "      <th>8380</th>\n",
       "      <td>NaN</td>\n",
       "    </tr>\n",
       "    <tr>\n",
       "      <th>8412</th>\n",
       "      <td>NaN</td>\n",
       "    </tr>\n",
       "    <tr>\n",
       "      <th>8450</th>\n",
       "      <td>NaN</td>\n",
       "    </tr>\n",
       "  </tbody>\n",
       "</table>\n",
       "<p>68 rows × 1 columns</p>\n",
       "</div>"
      ],
      "text/plain": [
       "      RoomService\n",
       "25            NaN\n",
       "83            NaN\n",
       "233           NaN\n",
       "400           NaN\n",
       "889           NaN\n",
       "...           ...\n",
       "8312          NaN\n",
       "8361          NaN\n",
       "8380          NaN\n",
       "8412          NaN\n",
       "8450          NaN\n",
       "\n",
       "[68 rows x 1 columns]"
      ]
     },
     "execution_count": 174,
     "metadata": {},
     "output_type": "execute_result"
    }
   ],
   "source": [
    "df.loc[(df[\"RoomService\"].isna()==True) & (df[\"CryoSleep\"]==True),[\"RoomService\"]]"
   ]
  },
  {
   "cell_type": "code",
   "execution_count": 179,
   "metadata": {},
   "outputs": [],
   "source": [
    "bill_Amount = [\"RoomService\",\"FoodCourt\",\"ShoppingMall\",\"Spa\",\"VRDeck\"]\n",
    "\n",
    "for i in bill_Amount:\n",
    "    df.loc[(df[\"CryoSleep\"]==True) & df[i].isna()==True]=0"
   ]
  }
 ],
 "metadata": {
  "kernelspec": {
   "display_name": "Python 3.10.8 64-bit (microsoft store)",
   "language": "python",
   "name": "python3"
  },
  "language_info": {
   "codemirror_mode": {
    "name": "ipython",
    "version": 3
   },
   "file_extension": ".py",
   "mimetype": "text/x-python",
   "name": "python",
   "nbconvert_exporter": "python",
   "pygments_lexer": "ipython3",
   "version": "3.10.8"
  },
  "orig_nbformat": 4,
  "vscode": {
   "interpreter": {
    "hash": "f8ca15d83b6fb72cece3edcf60f6aa40d2cbdeb5c60e0f188ff8c7c65828fd00"
   }
  }
 },
 "nbformat": 4,
 "nbformat_minor": 2
}
